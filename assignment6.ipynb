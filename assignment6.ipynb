{
 "cells": [
  {
   "cell_type": "markdown",
   "id": "12a3181c-7795-41b5-9948-d7ef3dd96718",
   "metadata": {},
   "source": [
    "# Assignment 6: Pandas Practice\n",
    "\n",
    "### Instructions\n",
    "\n",
    "Complete the tasks outlined below. In some cases the code may be partially written, and you need to finish the code. In other cases, you will need to write the entire line of code. Or, you may need to explain in plain English what a code chunk is doing.\n",
    "\n",
    "When you are finished, save the notebook and push the repo to your fork of the repo, and copy/paste the link to your repo into the assignment 6 google form.\n",
    "\n",
    "Feel free to create more cells as needed in order to explore the data and fully answer the questions."
   ]
  },
  {
   "cell_type": "markdown",
   "id": "7720d195-0f3d-4385-be70-7d633e5691fb",
   "metadata": {},
   "source": [
    "## Import pandas\n",
    "\n",
    "What is the standard import statement for pandas? Go ahead and import the pandas library"
   ]
  },
  {
   "cell_type": "code",
   "execution_count": null,
   "id": "3cf953f9-ea4b-494b-8028-d2fa4c464bf5",
   "metadata": {},
   "outputs": [],
   "source": [
    "import pandas as pd"
   ]
  },
  {
   "cell_type": "markdown",
   "id": "cfe95c8d-d515-4284-a244-e39775cb241b",
   "metadata": {},
   "source": [
    "## Reading in data\n",
    "\n",
    "Read the data in `gapminder_gdp_americas.csv` (in the `data` directory) into a variable called `americas` and display its summary statistics. Remember to specify the `country` column as the index."
   ]
  },
  {
   "cell_type": "code",
   "execution_count": null,
   "id": "4444a245-faa7-4c7c-b700-a0eac416a024",
   "metadata": {},
   "outputs": [],
   "source": [
    "americas = pd.read_csv('data/gapminder_gdp_americas.csv')\n",
    "print(data)"
   ]
  },
  {
   "cell_type": "code",
   "execution_count": null,
   "id": "582efa69-f54a-488c-b94b-74f95d1d13db",
   "metadata": {},
   "outputs": [],
   "source": [
    "americas = pd.read_csv('data/gapminder_gdp_americas.csv', index_col='country')\n",
    "print(data)"
   ]
  },
  {
   "cell_type": "markdown",
   "id": "0b74d09e-e95e-4f00-96c6-173b7e26bb4e",
   "metadata": {},
   "source": [
    "## Inspecting data\n",
    "\n",
    "After reading the data for the Americas, use help(americas.head) and help(americas.tail) to find out what DataFrame.head and DataFrame.tail do.\n",
    "\n",
    "1. What method call will display the first three rows of this data?\n",
    "2. What method call will display the last three columns of this data? (Hint: you may need to change your view of the data.)"
   ]
  },
  {
   "cell_type": "code",
   "execution_count": null,
   "id": "6e5fba2e-18bb-4562-94e0-f5d094530477",
   "metadata": {},
   "outputs": [],
   "source": [
    "americas.head(n=3)"
   ]
  },
  {
   "cell_type": "code",
   "execution_count": null,
   "id": "fe061553-6edf-4280-9549-5ebbd9c3315a",
   "metadata": {},
   "outputs": [],
   "source": [
    "americas_flipped = americas.T"
   ]
  },
  {
   "cell_type": "code",
   "execution_count": null,
   "id": "7909f5af-7f2a-497f-90f9-29dfe378f183",
   "metadata": {},
   "outputs": [],
   "source": [
    "americas_flipped.tail(n=3)"
   ]
  },
  {
   "cell_type": "markdown",
   "id": "2522bac5-46da-4953-911c-c1d7dc52fec3",
   "metadata": {},
   "source": [
    "## Selection of Individual Values\n",
    "\n",
    "Write an expression to find the Per Capita GDP of Chile in 1992."
   ]
  },
  {
   "cell_type": "code",
   "execution_count": null,
   "id": "07644cb1-7002-4ddf-95ac-bae8822c4b1e",
   "metadata": {},
   "outputs": [],
   "source": [
    "americas.loc[\"Chile\",\"gdpPercap_1992\"]"
   ]
  },
  {
   "cell_type": "markdown",
   "id": "faf470c4-ba79-4dd6-a72d-5804b2d7cb0c",
   "metadata": {},
   "source": [
    "What expression will produce an identical result?"
   ]
  },
  {
   "cell_type": "code",
   "execution_count": null,
   "id": "b5a2ad56-38d4-47b3-a9e9-3b6faf3c0bab",
   "metadata": {},
   "outputs": [],
   "source": [
    "americas.iloc[,]"
   ]
  },
  {
   "cell_type": "markdown",
   "id": "169ccd62-6670-4c94-95c5-bbfdc6ddf2b8",
   "metadata": {},
   "source": [
    "## Reconstrucing Data\n",
    "\n",
    "Explain what each line in the following short program does: what is in first, second, etc.?"
   ]
  },
  {
   "cell_type": "code",
   "execution_count": null,
   "id": "5e09f571-6df0-4349-afb1-c348156919e6",
   "metadata": {},
   "outputs": [],
   "source": [
    "first = pd.read_csv('data/gapminder_all.csv', index_col='country')\n",
    "second = first[first['continent'] == 'Americas']\n",
    "third = second.drop('Puerto Rico')\n",
    "fourth = third.drop('continent', axis = 1)\n",
    "fourth.to_csv('result.csv')"
   ]
  },
  {
   "cell_type": "markdown",
   "id": "6a9f50a8-5263-4d38-b2bc-010007784a9d",
   "metadata": {},
   "source": [
    "### first\n",
    "\n",
    "### second\n",
    "\n",
    "### third\n",
    "\n",
    "### fourth\n",
    "\n",
    "### fifth\n"
   ]
  },
  {
   "cell_type": "markdown",
   "id": "33465cba-f98b-4156-8ea7-11c06a18c387",
   "metadata": {},
   "source": [
    "## Selecting Indices\n",
    "\n",
    "Explain in simple terms what idxmin and idxmax do in the short program below. When would you use these methods?"
   ]
  },
  {
   "cell_type": "code",
   "execution_count": null,
   "id": "de52a2b3-4af3-4a54-9336-c81e199209c8",
   "metadata": {},
   "outputs": [],
   "source": [
    "data = pd.read_csv('data/gapminder_gdp_europe.csv', index_col='country')\n",
    "print(data.idxmin())\n",
    "print(data.idxmax())"
   ]
  },
  {
   "cell_type": "markdown",
   "id": "8f5d7965-7928-4f41-8a9f-f9c3beb8fd54",
   "metadata": {},
   "source": [
    "## Practice with Selection\n",
    "\n",
    "Using the `data` dataframe above, with GDP data for Europe, write an expression to select:\n",
    "\n",
    "\n",
    "1. GDP per capita for all countries in 1982.\n",
    "2. GDP per capita for Denmark for all years.\n",
    "3. GDP per capita for all countries for years after 1985.\n",
    "4. GDP per capita for each country in 2007 as a multiple of GDP per capita for that country in 1952."
   ]
  },
  {
   "cell_type": "code",
   "execution_count": null,
   "id": "d4537be4-4277-4b4b-a04f-5ac32a161aac",
   "metadata": {},
   "outputs": [],
   "source": [
    "data['gdpPercap_1982']"
   ]
  },
  {
   "cell_type": "code",
   "execution_count": null,
   "id": "57d9fd5c-e931-43a9-a024-48df18e180ac",
   "metadata": {},
   "outputs": [],
   "source": [
    "data.loc['Denmark',:]"
   ]
  },
  {
   "cell_type": "code",
   "execution_count": null,
   "id": "2c1715ab-8dba-4474-b99e-93035154af48",
   "metadata": {},
   "outputs": [],
   "source": [
    "data.loc[:,'gdpPercap_1985':]"
   ]
  },
  {
   "cell_type": "code",
   "execution_count": null,
   "id": "aa5cd36b-81fd-4c8f-a320-f30144111f53",
   "metadata": {},
   "outputs": [],
   "source": [
    "data['gdpPercap_2007']/data['gdpPercap_1952']"
   ]
  },
  {
   "cell_type": "markdown",
   "id": "278aad4c-a946-4c4d-8f20-9808b0c0650b",
   "metadata": {},
   "source": [
    "## Import matplotlib's sublibrary pyplot using the standard import statement"
   ]
  },
  {
   "cell_type": "code",
   "execution_count": null,
   "id": "b2ef5576-378b-42a0-a980-7c5fe87ae603",
   "metadata": {},
   "outputs": [],
   "source": [
    "import pandas as pd"
   ]
  },
  {
   "cell_type": "markdown",
   "id": "79392258-5541-4d03-b404-71518b22ef1e",
   "metadata": {},
   "source": [
    "## Minima and Maxima\n",
    "\n",
    "Fill in the blanks below to plot the minimum GDP per capita over time for all the countries in Europe. \n",
    "\n",
    "Modify it again to plot the maximum GDP per capita over time for Europe."
   ]
  },
  {
   "cell_type": "code",
   "execution_count": null,
   "id": "1aecc763-90db-4040-9981-2f67cb59e62e",
   "metadata": {},
   "outputs": [],
   "source": [
    "data_europe = pd.read_csv('data/gapminder_gdp_europe.csv', index_col='country')"
   ]
  },
  {
   "cell_type": "code",
   "execution_count": null,
   "id": "6239c3be-58ff-461d-b1d2-51b78c436932",
   "metadata": {},
   "outputs": [],
   "source": [
    "data_europe.____.plot(label='min')\n",
    "data_europe.____\n",
    "plt.legend(loc='best')\n",
    "plt.xticks(rotation=90)"
   ]
  },
  {
   "cell_type": "code",
   "execution_count": null,
   "id": "0c53edd7-76a5-4892-ad5d-695b4a7e236a",
   "metadata": {},
   "outputs": [],
   "source": [
    "data_europe.min().plot(label='min')\n",
    "data_europe.max().plot(label='max')\n",
    "plt.legend(loc='best')\n",
    "plt.xticks(rotation=90)"
   ]
  },
  {
   "cell_type": "markdown",
   "id": "288e96f8-847a-46c4-811a-8df8b024c146",
   "metadata": {},
   "source": [
    "## Correlations\n",
    "\n",
    "Finish the code below to create a scatter plot showing the relationship between the minimum and maximum GDP per capita among the countries in Asia for each year in the data set. What relationship do you see (if any)?"
   ]
  },
  {
   "cell_type": "code",
   "execution_count": null,
   "id": "3954c80f-a1e1-4e05-9bd2-6c09f6ee33a4",
   "metadata": {},
   "outputs": [],
   "source": [
    "data_asia = pd.read_csv('data/gapminder_gdp_asia.csv', index_col='country')\n",
    "data_asia.describe().T.plot(kind='scatter', x='min', y='max')"
   ]
  },
  {
   "cell_type": "markdown",
   "id": "c1e9b8ca-8f5f-412d-ab14-cf70ba3a1e1a",
   "metadata": {},
   "source": [
    "### relationship of min/max GDP for countries in Asia\n"
   ]
  },
  {
   "cell_type": "markdown",
   "id": "2472f8c2-ebd2-4398-9ac6-4fcc4dd8ea41",
   "metadata": {},
   "source": [
    "You might note that the variability in the maximum is much higher than that of the minimum. Take a look at the maximum and the max indexes:"
   ]
  },
  {
   "cell_type": "code",
   "execution_count": null,
   "id": "ca8bf65f-8885-4981-932d-f83697b0df2a",
   "metadata": {},
   "outputs": [],
   "source": [
    "data_asia.max().plot()\n",
    "print(data_asia.idxmax())\n",
    "print(data_asia.idxmin())"
   ]
  },
  {
   "cell_type": "markdown",
   "id": "f7d1d377-824e-4969-85ca-86b886142d95",
   "metadata": {},
   "source": [
    "### What are some observations you have of this plot?\n",
    "\n"
   ]
  },
  {
   "cell_type": "markdown",
   "id": "fc0120c3-29de-4957-afd7-457473ef880a",
   "metadata": {},
   "source": [
    "## Save the plot\n",
    "\n",
    "If you are satisfied with the plot you see you may want to save it to a file, perhaps to include it in a publication. There is a function in the matplotlib.pyplot module that accomplishes this: savefig. Calling this function, e.g. with\n",
    "\n",
    "`plt.savefig('my_figure.png')`\n",
    "\n",
    "will save the current figure to the file my_figure.png. The file format will automatically be deduced from the file name extension (other formats are pdf, ps, eps and svg).\n",
    "\n",
    "Note that functions in plt refer to a global figure variable and after a figure has been displayed to the screen (e.g. with plt.show) matplotlib will make this variable refer to a new empty figure. Therefore, make sure you call plt.savefig before the plot is displayed to the screen, otherwise you may find a file with an empty plot.\n",
    "\n",
    "When using dataframes, data is often generated and plotted to screen in one line, and plt.savefig seems not to be a possible approach. One possibility to save the figure to file is then to \n",
    "- save a reference to the current figure in a local variable (with plt.gcf)\n",
    "- call the savefig class method from that variable.\n",
    "\n",
    "```\n",
    "fig = plt.gcf() # get current figure\n",
    "data.plot(kind='bar')\n",
    "fig.savefig('my_figure.png')\n",
    "```\n",
    "\n",
    "**Go ahead and save the plot produced by `data_asia.max().plot()` to a figure**"
   ]
  },
  {
   "cell_type": "code",
   "execution_count": null,
   "id": "3bf52ebd-6ff1-42ce-a419-d7bf8203f9bc",
   "metadata": {},
   "outputs": [],
   "source": [
    "plt.savefig('my_figure.png')"
   ]
  }
 ],
 "metadata": {
  "kernelspec": {
   "display_name": "Python 3 (ipykernel)",
   "language": "python",
   "name": "python3"
  },
  "language_info": {
   "codemirror_mode": {
    "name": "ipython",
    "version": 3
   },
   "file_extension": ".py",
   "mimetype": "text/x-python",
   "name": "python",
   "nbconvert_exporter": "python",
   "pygments_lexer": "ipython3",
   "version": "3.9.7"
  }
 },
 "nbformat": 4,
 "nbformat_minor": 5
}
